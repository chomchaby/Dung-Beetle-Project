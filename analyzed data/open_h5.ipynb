{
 "cells": [
  {
   "cell_type": "code",
   "execution_count": 1,
   "id": "0188a776",
   "metadata": {},
   "outputs": [],
   "source": [
    "import numpy as np\n",
    "import pandas as pd\n",
    "import h5py "
   ]
  },
  {
   "cell_type": "code",
   "execution_count": 2,
   "id": "320f8a64",
   "metadata": {},
   "outputs": [],
   "source": [
    "def h5py_dataset_iterator(g, prefix=''):\n",
    "    for key in g.keys():\n",
    "        item = g[key]\n",
    "        path = '{}/{}'.format(prefix, key)\n",
    "        if isinstance(item, h5py.Dataset): # test for dataset\n",
    "            yield (path, item)\n",
    "        elif isinstance(item, h5py.Group): # test for group (go down)\n",
    "            yield from h5py_dataset_iterator(item, path)"
   ]
  },
  {
   "cell_type": "code",
   "execution_count": 3,
   "id": "3ebc47ee",
   "metadata": {},
   "outputs": [],
   "source": [
    "filename = 'rollingheavy_C150.h5'"
   ]
  },
  {
   "cell_type": "code",
   "execution_count": 4,
   "id": "d3d29a2f",
   "metadata": {},
   "outputs": [
    {
     "name": "stdout",
     "output_type": "stream",
     "text": [
      "/df_with_missing/_i_table/index/abounds <HDF5 dataset \"abounds\": shape (0,), type \"<i8\">\n",
      "/df_with_missing/_i_table/index/bounds <HDF5 dataset \"bounds\": shape (0, 127), type \"<i8\">\n",
      "/df_with_missing/_i_table/index/indices <HDF5 dataset \"indices\": shape (0, 131072), type \"<u4\">\n",
      "/df_with_missing/_i_table/index/indicesLR <HDF5 dataset \"indicesLR\": shape (131072,), type \"<u4\">\n",
      "/df_with_missing/_i_table/index/mbounds <HDF5 dataset \"mbounds\": shape (0,), type \"<i8\">\n",
      "/df_with_missing/_i_table/index/mranges <HDF5 dataset \"mranges\": shape (0,), type \"<i8\">\n",
      "/df_with_missing/_i_table/index/ranges <HDF5 dataset \"ranges\": shape (0, 2), type \"<i8\">\n",
      "/df_with_missing/_i_table/index/sorted <HDF5 dataset \"sorted\": shape (0, 131072), type \"<i8\">\n",
      "/df_with_missing/_i_table/index/sortedLR <HDF5 dataset \"sortedLR\": shape (131201,), type \"<i8\">\n",
      "/df_with_missing/_i_table/index/zbounds <HDF5 dataset \"zbounds\": shape (0,), type \"<i8\">\n",
      "/df_with_missing/table <HDF5 dataset \"table\": shape (198,), type \"|V392\">\n"
     ]
    }
   ],
   "source": [
    "with h5py.File(filename, 'r') as f:\n",
    "    for (path, dset) in h5py_dataset_iterator(f):\n",
    "        print(path, dset)"
   ]
  },
  {
   "cell_type": "code",
   "execution_count": 5,
   "id": "552acfb0",
   "metadata": {},
   "outputs": [],
   "source": [
    "hf = h5py.File(filename, 'r')"
   ]
  },
  {
   "cell_type": "code",
   "execution_count": 6,
   "id": "9d4970cf",
   "metadata": {},
   "outputs": [
    {
     "data": {
      "text/plain": [
       "<HDF5 dataset \"table\": shape (198,), type \"|V392\">"
      ]
     },
     "execution_count": 6,
     "metadata": {},
     "output_type": "execute_result"
    }
   ],
   "source": [
    "data = hf.get('df_with_missing/table')\n",
    "data"
   ]
  },
  {
   "cell_type": "code",
   "execution_count": 7,
   "id": "b1ce29cb",
   "metadata": {},
   "outputs": [
    {
     "data": {
      "text/html": [
       "<div>\n",
       "<style scoped>\n",
       "    .dataframe tbody tr th:only-of-type {\n",
       "        vertical-align: middle;\n",
       "    }\n",
       "\n",
       "    .dataframe tbody tr th {\n",
       "        vertical-align: top;\n",
       "    }\n",
       "\n",
       "    .dataframe thead th {\n",
       "        text-align: right;\n",
       "    }\n",
       "</style>\n",
       "<table border=\"1\" class=\"dataframe\">\n",
       "  <thead>\n",
       "    <tr style=\"text-align: right;\">\n",
       "      <th></th>\n",
       "      <th>key</th>\n",
       "      <th>values</th>\n",
       "    </tr>\n",
       "  </thead>\n",
       "  <tbody>\n",
       "    <tr>\n",
       "      <th>0</th>\n",
       "      <td>CLASS</td>\n",
       "      <td>b'TABLE'</td>\n",
       "    </tr>\n",
       "    <tr>\n",
       "      <th>1</th>\n",
       "      <td>FIELD_0_FILL</td>\n",
       "      <td>0</td>\n",
       "    </tr>\n",
       "    <tr>\n",
       "      <th>2</th>\n",
       "      <td>FIELD_0_NAME</td>\n",
       "      <td>b'index'</td>\n",
       "    </tr>\n",
       "    <tr>\n",
       "      <th>3</th>\n",
       "      <td>FIELD_1_FILL</td>\n",
       "      <td>0.0</td>\n",
       "    </tr>\n",
       "    <tr>\n",
       "      <th>4</th>\n",
       "      <td>FIELD_1_NAME</td>\n",
       "      <td>b'values_block_0'</td>\n",
       "    </tr>\n",
       "    <tr>\n",
       "      <th>5</th>\n",
       "      <td>NROWS</td>\n",
       "      <td>198</td>\n",
       "    </tr>\n",
       "    <tr>\n",
       "      <th>6</th>\n",
       "      <td>TITLE</td>\n",
       "      <td>Empty(dtype=dtype('S1'))</td>\n",
       "    </tr>\n",
       "    <tr>\n",
       "      <th>7</th>\n",
       "      <td>VERSION</td>\n",
       "      <td>b'2.7'</td>\n",
       "    </tr>\n",
       "    <tr>\n",
       "      <th>8</th>\n",
       "      <td>index_kind</td>\n",
       "      <td>b'integer'</td>\n",
       "    </tr>\n",
       "    <tr>\n",
       "      <th>9</th>\n",
       "      <td>values_block_0_dtype</td>\n",
       "      <td>b'float64'</td>\n",
       "    </tr>\n",
       "    <tr>\n",
       "      <th>10</th>\n",
       "      <td>values_block_0_kind</td>\n",
       "      <td>b'(lp0\\n(VDLC_resnet101_rolling_heavyJul6shuff...</td>\n",
       "    </tr>\n",
       "    <tr>\n",
       "      <th>11</th>\n",
       "      <td>values_block_0_meta</td>\n",
       "      <td>b'N.'</td>\n",
       "    </tr>\n",
       "  </tbody>\n",
       "</table>\n",
       "</div>"
      ],
      "text/plain": [
       "                     key                                             values\n",
       "0                  CLASS                                           b'TABLE'\n",
       "1           FIELD_0_FILL                                                  0\n",
       "2           FIELD_0_NAME                                           b'index'\n",
       "3           FIELD_1_FILL                                                0.0\n",
       "4           FIELD_1_NAME                                  b'values_block_0'\n",
       "5                  NROWS                                                198\n",
       "6                  TITLE                           Empty(dtype=dtype('S1'))\n",
       "7                VERSION                                             b'2.7'\n",
       "8             index_kind                                         b'integer'\n",
       "9   values_block_0_dtype                                         b'float64'\n",
       "10   values_block_0_kind  b'(lp0\\n(VDLC_resnet101_rolling_heavyJul6shuff...\n",
       "11   values_block_0_meta                                              b'N.'"
      ]
     },
     "execution_count": 7,
     "metadata": {},
     "output_type": "execute_result"
    }
   ],
   "source": [
    "k = pd.DataFrame(list(data.attrs.keys()), columns=['key'])\n",
    "v = pd.DataFrame(list(data.attrs.values()), columns=['values'])\n",
    "pd.merge(k, v, left_index=True, right_index=True)"
   ]
  },
  {
   "cell_type": "code",
   "execution_count": 8,
   "id": "66b67c5c",
   "metadata": {},
   "outputs": [
    {
     "data": {
      "text/html": [
       "<div>\n",
       "<style scoped>\n",
       "    .dataframe tbody tr th:only-of-type {\n",
       "        vertical-align: middle;\n",
       "    }\n",
       "\n",
       "    .dataframe tbody tr th {\n",
       "        vertical-align: top;\n",
       "    }\n",
       "\n",
       "    .dataframe thead th {\n",
       "        text-align: right;\n",
       "    }\n",
       "</style>\n",
       "<table border=\"1\" class=\"dataframe\">\n",
       "  <thead>\n",
       "    <tr style=\"text-align: right;\">\n",
       "      <th></th>\n",
       "      <th>0</th>\n",
       "    </tr>\n",
       "  </thead>\n",
       "  <tbody>\n",
       "    <tr>\n",
       "      <th>0</th>\n",
       "      <td>[0, [426.22515869140625, 2.9404337406158447, 0...</td>\n",
       "    </tr>\n",
       "    <tr>\n",
       "      <th>1</th>\n",
       "      <td>[1, [428.449951171875, 4.490979194641113, 0.00...</td>\n",
       "    </tr>\n",
       "    <tr>\n",
       "      <th>2</th>\n",
       "      <td>[2, [1887.46630859375, 1089.858642578125, 0.00...</td>\n",
       "    </tr>\n",
       "    <tr>\n",
       "      <th>3</th>\n",
       "      <td>[3, [1887.11572265625, 1089.8782958984375, 0.0...</td>\n",
       "    </tr>\n",
       "    <tr>\n",
       "      <th>4</th>\n",
       "      <td>[4, [1887.329833984375, 1089.8172607421875, 0....</td>\n",
       "    </tr>\n",
       "    <tr>\n",
       "      <th>...</th>\n",
       "      <td>...</td>\n",
       "    </tr>\n",
       "    <tr>\n",
       "      <th>193</th>\n",
       "      <td>[193, [1886.7138671875, 1090.25341796875, 0.00...</td>\n",
       "    </tr>\n",
       "    <tr>\n",
       "      <th>194</th>\n",
       "      <td>[194, [1887.225830078125, 1089.9967041015625, ...</td>\n",
       "    </tr>\n",
       "    <tr>\n",
       "      <th>195</th>\n",
       "      <td>[195, [1887.310791015625, 1089.97607421875, 0....</td>\n",
       "    </tr>\n",
       "    <tr>\n",
       "      <th>196</th>\n",
       "      <td>[196, [1887.538818359375, 1089.8704833984375, ...</td>\n",
       "    </tr>\n",
       "    <tr>\n",
       "      <th>197</th>\n",
       "      <td>[197, [1887.535400390625, 1089.876708984375, 0...</td>\n",
       "    </tr>\n",
       "  </tbody>\n",
       "</table>\n",
       "<p>198 rows × 1 columns</p>\n",
       "</div>"
      ],
      "text/plain": [
       "                                                     0\n",
       "0    [0, [426.22515869140625, 2.9404337406158447, 0...\n",
       "1    [1, [428.449951171875, 4.490979194641113, 0.00...\n",
       "2    [2, [1887.46630859375, 1089.858642578125, 0.00...\n",
       "3    [3, [1887.11572265625, 1089.8782958984375, 0.0...\n",
       "4    [4, [1887.329833984375, 1089.8172607421875, 0....\n",
       "..                                                 ...\n",
       "193  [193, [1886.7138671875, 1090.25341796875, 0.00...\n",
       "194  [194, [1887.225830078125, 1089.9967041015625, ...\n",
       "195  [195, [1887.310791015625, 1089.97607421875, 0....\n",
       "196  [196, [1887.538818359375, 1089.8704833984375, ...\n",
       "197  [197, [1887.535400390625, 1089.876708984375, 0...\n",
       "\n",
       "[198 rows x 1 columns]"
      ]
     },
     "execution_count": 8,
     "metadata": {},
     "output_type": "execute_result"
    }
   ],
   "source": [
    "df = pd.DataFrame(data)\n",
    "df"
   ]
  },
  {
   "cell_type": "code",
   "execution_count": 9,
   "id": "fecdc9f5",
   "metadata": {},
   "outputs": [
    {
     "data": {
      "text/plain": [
       "array([ 4.26225159e+02,  2.94043374e+00,  1.79755688e-03,  4.28156281e+02,\n",
       "        6.12118244e-01,  8.42303038e-04,  4.26483643e+02,  4.29972410e-01,\n",
       "        1.63471699e-03,  4.29545593e+02,  2.26158190e+00,  1.42848492e-03,\n",
       "        4.25076813e+02,  1.93477154e-01,  7.30603933e-04,  4.19781891e+02,\n",
       "       -1.87094545e+00,  1.77261233e-03,  4.25320679e+02,  2.28605080e+00,\n",
       "        6.52551651e-04,  4.21993530e+02, -6.83369255e+00,  2.44495273e-03,\n",
       "        4.19406464e+02, -6.64537907e-01,  1.36819482e-03,  4.20586395e+01,\n",
       "        6.19963318e+02,  8.72224569e-04,  4.20924713e+02,  4.22006226e+00,\n",
       "        1.06009841e-03,  4.28896790e+02, -7.48608112e-01,  4.01735306e-04,\n",
       "        4.32782043e+02,  7.14711666e-01,  7.16835260e-04,  4.25571350e+02,\n",
       "        2.36697173e+00,  4.95225191e-04,  4.25703400e+02,  1.67923188e+00,\n",
       "        9.59634781e-04,  4.29528900e+02, -3.69115257e+00,  9.98312235e-03])"
      ]
     },
     "execution_count": 9,
     "metadata": {},
     "output_type": "execute_result"
    }
   ],
   "source": [
    "# data in the first frame\n",
    "f0 = df[0][0][1]\n",
    "f0"
   ]
  },
  {
   "cell_type": "code",
   "execution_count": 10,
   "id": "6c6712af",
   "metadata": {},
   "outputs": [
    {
     "data": {
      "text/plain": [
       "(48,)"
      ]
     },
     "execution_count": 10,
     "metadata": {},
     "output_type": "execute_result"
    }
   ],
   "source": [
    "f0.shape"
   ]
  },
  {
   "cell_type": "code",
   "execution_count": 11,
   "id": "299718c7",
   "metadata": {},
   "outputs": [],
   "source": [
    "%matplotlib inline\n",
    "import matplotlib.pyplot as plt\n",
    "plt.style.use('seaborn-whitegrid')"
   ]
  },
  {
   "cell_type": "code",
   "execution_count": 12,
   "id": "cd23e9a2",
   "metadata": {},
   "outputs": [
    {
     "data": {
      "image/png": "[encoded data removed]",
      "text/plain": [
       "<Figure size 432x288 with 1 Axes>"
      ]
     },
     "metadata": {},
     "output_type": "display_data"
    }
   ],
   "source": [
    "plt.plot(f0, 'o');"
   ]
  },
  {
   "cell_type": "code",
   "execution_count": 13,
   "id": "61af684c",
   "metadata": {},
   "outputs": [],
   "source": [
    "# plot trajectory of all body parts\n",
    "\n",
    "x_plot = pd.DataFrame([])\n",
    "for i in range(df.shape[0]):\n",
    "    for j in range(16):\n",
    "        x_plot = x_plot.append(pd.Series(df[0][i][1][0+3*j]), ignore_index=True)\n",
    "x_plot.columns = ['x_values']\n",
    "\n",
    "y_plot = pd.DataFrame([])\n",
    "for i in range(df.shape[0]):\n",
    "    for j in range(16):\n",
    "        y_plot = y_plot.append(pd.Series(df[0][i][1][1+3*j]), ignore_index=True)\n",
    "y_plot.columns = ['y_values']\n",
    "\n",
    "plot = pd.merge(x_plot, y_plot, left_index=True, right_index=True)"
   ]
  },
  {
   "cell_type": "code",
   "execution_count": 14,
   "id": "9230941a",
   "metadata": {},
   "outputs": [
    {
     "data": {
      "text/html": [
       "<div>\n",
       "<style scoped>\n",
       "    .dataframe tbody tr th:only-of-type {\n",
       "        vertical-align: middle;\n",
       "    }\n",
       "\n",
       "    .dataframe tbody tr th {\n",
       "        vertical-align: top;\n",
       "    }\n",
       "\n",
       "    .dataframe thead th {\n",
       "        text-align: right;\n",
       "    }\n",
       "</style>\n",
       "<table border=\"1\" class=\"dataframe\">\n",
       "  <thead>\n",
       "    <tr style=\"text-align: right;\">\n",
       "      <th></th>\n",
       "      <th>x_values</th>\n",
       "      <th>y_values</th>\n",
       "    </tr>\n",
       "  </thead>\n",
       "  <tbody>\n",
       "    <tr>\n",
       "      <th>0</th>\n",
       "      <td>426.225159</td>\n",
       "      <td>2.940434</td>\n",
       "    </tr>\n",
       "    <tr>\n",
       "      <th>1</th>\n",
       "      <td>428.156281</td>\n",
       "      <td>0.612118</td>\n",
       "    </tr>\n",
       "    <tr>\n",
       "      <th>2</th>\n",
       "      <td>426.483643</td>\n",
       "      <td>0.429972</td>\n",
       "    </tr>\n",
       "    <tr>\n",
       "      <th>3</th>\n",
       "      <td>429.545593</td>\n",
       "      <td>2.261582</td>\n",
       "    </tr>\n",
       "    <tr>\n",
       "      <th>4</th>\n",
       "      <td>425.076813</td>\n",
       "      <td>0.193477</td>\n",
       "    </tr>\n",
       "    <tr>\n",
       "      <th>...</th>\n",
       "      <td>...</td>\n",
       "      <td>...</td>\n",
       "    </tr>\n",
       "    <tr>\n",
       "      <th>3163</th>\n",
       "      <td>1888.246460</td>\n",
       "      <td>1086.673828</td>\n",
       "    </tr>\n",
       "    <tr>\n",
       "      <th>3164</th>\n",
       "      <td>1885.903809</td>\n",
       "      <td>1090.103394</td>\n",
       "    </tr>\n",
       "    <tr>\n",
       "      <th>3165</th>\n",
       "      <td>1884.691895</td>\n",
       "      <td>1087.705322</td>\n",
       "    </tr>\n",
       "    <tr>\n",
       "      <th>3166</th>\n",
       "      <td>1885.492554</td>\n",
       "      <td>1089.784302</td>\n",
       "    </tr>\n",
       "    <tr>\n",
       "      <th>3167</th>\n",
       "      <td>56.308277</td>\n",
       "      <td>610.422241</td>\n",
       "    </tr>\n",
       "  </tbody>\n",
       "</table>\n",
       "<p>3168 rows × 2 columns</p>\n",
       "</div>"
      ],
      "text/plain": [
       "         x_values     y_values\n",
       "0      426.225159     2.940434\n",
       "1      428.156281     0.612118\n",
       "2      426.483643     0.429972\n",
       "3      429.545593     2.261582\n",
       "4      425.076813     0.193477\n",
       "...           ...          ...\n",
       "3163  1888.246460  1086.673828\n",
       "3164  1885.903809  1090.103394\n",
       "3165  1884.691895  1087.705322\n",
       "3166  1885.492554  1089.784302\n",
       "3167    56.308277   610.422241\n",
       "\n",
       "[3168 rows x 2 columns]"
      ]
     },
     "execution_count": 14,
     "metadata": {},
     "output_type": "execute_result"
    }
   ],
   "source": [
    "plot"
   ]
  },
  {
   "cell_type": "code",
   "execution_count": 15,
   "id": "667866a5",
   "metadata": {},
   "outputs": [
    {
     "data": {
      "image/png": "[encoded data removed]",
      "text/plain": [
       "<Figure size 864x576 with 1 Axes>"
      ]
     },
     "metadata": {},
     "output_type": "display_data"
    }
   ],
   "source": [
    "plt.figure(figsize=(12, 8))\n",
    "plt.scatter(plot['x_values'], plot['y_values'], s=9)\n",
    "plt.ylim(1150,-50);"
   ]
  },
  {
   "cell_type": "code",
   "execution_count": null,
   "id": "395f3af3",
   "metadata": {},
   "outputs": [],
   "source": []
  }
 ],
 "metadata": {
  "kernelspec": {
   "display_name": "Python 3",
   "language": "python",
   "name": "python3"
  },
  "language_info": {
   "codemirror_mode": {
    "name": "ipython",
    "version": 3
   },
   "file_extension": ".py",
   "mimetype": "text/x-python",
   "name": "python",
   "nbconvert_exporter": "python",
   "pygments_lexer": "ipython3",
   "version": "3.8.8"
  }
 },
 "nbformat": 4,
 "nbformat_minor": 5
}
