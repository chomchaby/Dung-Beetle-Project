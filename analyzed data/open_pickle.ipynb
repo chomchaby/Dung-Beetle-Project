{
 "cells": [
  {
   "cell_type": "code",
   "execution_count": 1,
   "id": "3aaa1ada",
   "metadata": {},
   "outputs": [],
   "source": [
    "import pickle\n",
    "import pandas as pd"
   ]
  },
  {
   "cell_type": "code",
   "execution_count": 2,
   "id": "4292d0b1",
   "metadata": {},
   "outputs": [],
   "source": [
    "filename = 'rollingheavy_C150.pickle'"
   ]
  },
  {
   "cell_type": "code",
   "execution_count": 3,
   "id": "a9cc6b53",
   "metadata": {},
   "outputs": [],
   "source": [
    "infile = open(filename,'rb')"
   ]
  },
  {
   "cell_type": "code",
   "execution_count": 4,
   "id": "45e29a50",
   "metadata": {},
   "outputs": [],
   "source": [
    "data = pickle.load(infile)"
   ]
  },
  {
   "cell_type": "code",
   "execution_count": 5,
   "id": "b7ff801a",
   "metadata": {},
   "outputs": [],
   "source": [
    "infile.close()"
   ]
  },
  {
   "cell_type": "code",
   "execution_count": 6,
   "id": "a42fc59b",
   "metadata": {},
   "outputs": [
    {
     "data": {
      "text/plain": [
       "{'data': {'start': 1626934609.3511472,\n",
       "  'stop': 1626934636.1587667,\n",
       "  'run_duration': 26.80761957168579,\n",
       "  'Scorer': 'DLC_resnet101_rolling_heavyJul6shuffle1_100000',\n",
       "  'DLC-model-config file': {'stride': 8.0,\n",
       "   'weigh_part_predictions': False,\n",
       "   'weigh_negatives': False,\n",
       "   'fg_fraction': 0.25,\n",
       "   'mean_pixel': [123.68, 116.779, 103.939],\n",
       "   'shuffle': True,\n",
       "   'snapshot_prefix': '/content/drive/My Drive/rolling/rolling_heavy-C150-2021-07-06/dlc-models/iteration-0/rolling_heavyJul6-trainset95shuffle1/test/snapshot',\n",
       "   'log_dir': 'log',\n",
       "   'global_scale': 0.8,\n",
       "   'location_refinement': True,\n",
       "   'locref_stdev': 7.2801,\n",
       "   'locref_loss_weight': 1.0,\n",
       "   'locref_huber_loss': True,\n",
       "   'optimizer': 'sgd',\n",
       "   'intermediate_supervision': False,\n",
       "   'intermediate_supervision_layer': 12,\n",
       "   'regularize': False,\n",
       "   'weight_decay': 0.0001,\n",
       "   'crop_pad': 0,\n",
       "   'scoremap_dir': 'test',\n",
       "   'batch_size': 8,\n",
       "   'dataset_type': 'imgaug',\n",
       "   'deterministic': False,\n",
       "   'mirror': False,\n",
       "   'pairwise_huber_loss': True,\n",
       "   'weigh_only_present_joints': False,\n",
       "   'partaffinityfield_predict': False,\n",
       "   'pairwise_predict': False,\n",
       "   'all_joints': [[0],\n",
       "    [1],\n",
       "    [2],\n",
       "    [3],\n",
       "    [4],\n",
       "    [5],\n",
       "    [6],\n",
       "    [7],\n",
       "    [8],\n",
       "    [9],\n",
       "    [10],\n",
       "    [11],\n",
       "    [12],\n",
       "    [13],\n",
       "    [14],\n",
       "    [15]],\n",
       "   'all_joints_names': ['B0',\n",
       "    'L0',\n",
       "    'R0',\n",
       "    'B1',\n",
       "    'L1',\n",
       "    'R1',\n",
       "    'B2',\n",
       "    'L2',\n",
       "    'R2',\n",
       "    'JL0',\n",
       "    'JR0',\n",
       "    'JL1',\n",
       "    'JR1',\n",
       "    'JL2',\n",
       "    'JR2',\n",
       "    'Ball'],\n",
       "   'dataset': 'training-datasets/iteration-0/UnaugmentedDataSet_rolling_heavyJul6/rolling_heavy_C15095shuffle1.mat',\n",
       "   'init_weights': '/content/drive/My Drive/rolling/rolling_heavy-C150-2021-07-06/dlc-models/iteration-0/rolling_heavyJul6-trainset95shuffle1/train/snapshot-100000',\n",
       "   'net_type': 'resnet_101',\n",
       "   'num_joints': 16,\n",
       "   'num_outputs': 1},\n",
       "  'fps': 30.0,\n",
       "  'batch_size': 8,\n",
       "  'frame_dimensions': (1080, 1920),\n",
       "  'nframes': 198,\n",
       "  'iteration (active-learning)': 0,\n",
       "  'training set fraction': 0.95,\n",
       "  'cropping': False,\n",
       "  'cropping_parameters': [0, 1920, 0, 1080]}}"
      ]
     },
     "execution_count": 6,
     "metadata": {},
     "output_type": "execute_result"
    }
   ],
   "source": [
    "data"
   ]
  },
  {
   "cell_type": "code",
   "execution_count": 7,
   "id": "eccbba67",
   "metadata": {},
   "outputs": [
    {
     "data": {
      "text/html": [
       "<div>\n",
       "<style scoped>\n",
       "    .dataframe tbody tr th:only-of-type {\n",
       "        vertical-align: middle;\n",
       "    }\n",
       "\n",
       "    .dataframe tbody tr th {\n",
       "        vertical-align: top;\n",
       "    }\n",
       "\n",
       "    .dataframe thead th {\n",
       "        text-align: right;\n",
       "    }\n",
       "</style>\n",
       "<table border=\"1\" class=\"dataframe\">\n",
       "  <thead>\n",
       "    <tr style=\"text-align: right;\">\n",
       "      <th></th>\n",
       "      <th>data</th>\n",
       "    </tr>\n",
       "  </thead>\n",
       "  <tbody>\n",
       "    <tr>\n",
       "      <th>DLC-model-config file</th>\n",
       "      <td>{'stride': 8.0, 'weigh_part_predictions': Fals...</td>\n",
       "    </tr>\n",
       "    <tr>\n",
       "      <th>Scorer</th>\n",
       "      <td>DLC_resnet101_rolling_heavyJul6shuffle1_100000</td>\n",
       "    </tr>\n",
       "    <tr>\n",
       "      <th>batch_size</th>\n",
       "      <td>8</td>\n",
       "    </tr>\n",
       "    <tr>\n",
       "      <th>cropping</th>\n",
       "      <td>False</td>\n",
       "    </tr>\n",
       "    <tr>\n",
       "      <th>cropping_parameters</th>\n",
       "      <td>[0, 1920, 0, 1080]</td>\n",
       "    </tr>\n",
       "    <tr>\n",
       "      <th>fps</th>\n",
       "      <td>30.0</td>\n",
       "    </tr>\n",
       "    <tr>\n",
       "      <th>frame_dimensions</th>\n",
       "      <td>(1080, 1920)</td>\n",
       "    </tr>\n",
       "    <tr>\n",
       "      <th>iteration (active-learning)</th>\n",
       "      <td>0</td>\n",
       "    </tr>\n",
       "    <tr>\n",
       "      <th>nframes</th>\n",
       "      <td>198</td>\n",
       "    </tr>\n",
       "    <tr>\n",
       "      <th>run_duration</th>\n",
       "      <td>26.80762</td>\n",
       "    </tr>\n",
       "    <tr>\n",
       "      <th>start</th>\n",
       "      <td>1626934609.351147</td>\n",
       "    </tr>\n",
       "    <tr>\n",
       "      <th>stop</th>\n",
       "      <td>1626934636.158767</td>\n",
       "    </tr>\n",
       "    <tr>\n",
       "      <th>training set fraction</th>\n",
       "      <td>0.95</td>\n",
       "    </tr>\n",
       "  </tbody>\n",
       "</table>\n",
       "</div>"
      ],
      "text/plain": [
       "                                                                          data\n",
       "DLC-model-config file        {'stride': 8.0, 'weigh_part_predictions': Fals...\n",
       "Scorer                          DLC_resnet101_rolling_heavyJul6shuffle1_100000\n",
       "batch_size                                                                   8\n",
       "cropping                                                                 False\n",
       "cropping_parameters                                         [0, 1920, 0, 1080]\n",
       "fps                                                                       30.0\n",
       "frame_dimensions                                                  (1080, 1920)\n",
       "iteration (active-learning)                                                  0\n",
       "nframes                                                                    198\n",
       "run_duration                                                          26.80762\n",
       "start                                                        1626934609.351147\n",
       "stop                                                         1626934636.158767\n",
       "training set fraction                                                     0.95"
      ]
     },
     "execution_count": 7,
     "metadata": {},
     "output_type": "execute_result"
    }
   ],
   "source": [
    "df = pd.DataFrame(data)\n",
    "df"
   ]
  },
  {
   "cell_type": "code",
   "execution_count": null,
   "id": "f3687f52",
   "metadata": {},
   "outputs": [],
   "source": []
  }
 ],
 "metadata": {
  "kernelspec": {
   "display_name": "Python 3",
   "language": "python",
   "name": "python3"
  },
  "language_info": {
   "codemirror_mode": {
    "name": "ipython",
    "version": 3
   },
   "file_extension": ".py",
   "mimetype": "text/x-python",
   "name": "python",
   "nbconvert_exporter": "python",
   "pygments_lexer": "ipython3",
   "version": "3.8.8"
  }
 },
 "nbformat": 4,
 "nbformat_minor": 5
}
